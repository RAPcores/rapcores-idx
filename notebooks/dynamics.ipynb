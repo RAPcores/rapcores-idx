{
 "cells": [
  {
   "cell_type": "code",
   "execution_count": 1,
   "id": "olympic-familiar",
   "metadata": {},
   "outputs": [
    {
     "name": "stderr",
     "output_type": "stream",
     "text": [
      "┌ Info: Precompiling BaremetalPi [3a90a9a9-52f9-452b-94bd-193d585bd84f]\n",
      "└ @ Base loading.jl:1278\n"
     ]
    }
   ],
   "source": [
    "using BaremetalPi"
   ]
  },
  {
   "cell_type": "code",
   "execution_count": 2,
   "id": "waiting-danish",
   "metadata": {},
   "outputs": [],
   "source": [
    "buf = zeros(UInt64, 10)\n",
    "init_spi(\"/dev/spidev0.0\", max_speed_hz=1_000_000)\n"
   ]
  },
  {
   "cell_type": "code",
   "execution_count": 4,
   "id": "greatest-cement",
   "metadata": {},
   "outputs": [
    {
     "name": "stdout",
     "output_type": "stream",
     "text": [
      "UInt64[0x0000000000000000, 0x0000000000000000, 0x0000000000001902, 0x0000000000fd82be, 0x0000000000001902, 0x0000000000ff67fe, 0x0000000000000192, 0x0000000000f4ae02, 0x0000000000003d40, 0x0000000000ffdd64]UInt64[0x0000000000000000, 0x0000000000000000, 0x0000000000001902, 0x0000000000fd82be, 0x0000000000001902, 0x0000000000ff67fe, 0x0000000000000192, 0x0000000000f4ae02, 0x0000000000003d40, 0x0000000000ffdd64]\n"
     ]
    }
   ],
   "source": [
    "spi_transfer!(1, [0x0a0000000000000f], buf)\n",
    "spi_transfer!(1, [0x010000000000000f, 0x00000000004fffff, 0x0000010000000000, 0x0000000100000000, 0x0000010000000000, 0x0000000100000000, 0x0000020000000000, 0x0000000010000000, 0x0062000000000000, 0x0000000000000000], buf); print(buf); println(buf);\n"
   ]
  },
  {
   "cell_type": "code",
   "execution_count": null,
   "id": "aggregate-argument",
   "metadata": {},
   "outputs": [],
   "source": []
  }
 ],
 "metadata": {
  "kernelspec": {
   "display_name": "Julia 1.5.3",
   "language": "julia",
   "name": "julia-1.5"
  },
  "language_info": {
   "file_extension": ".jl",
   "mimetype": "application/julia",
   "name": "julia",
   "version": "1.5.3"
  }
 },
 "nbformat": 4,
 "nbformat_minor": 5
}
